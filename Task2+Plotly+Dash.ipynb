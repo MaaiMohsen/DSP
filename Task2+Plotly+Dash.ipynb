{
 "cells": [
  {
   "cell_type": "code",
   "execution_count": null,
   "metadata": {},
   "outputs": [
    {
     "name": "stderr",
     "output_type": "stream",
     "text": [
      "C:\\Users\\ooo\\Anaconda3\\lib\\site-packages\\ipykernel_launcher.py:9: DeprecationWarning:\n",
      "\n",
      "object of type <class 'float'> cannot be safely interpreted as an integer.\n",
      "\n",
      "C:\\Users\\ooo\\Anaconda3\\lib\\site-packages\\ipykernel_launcher.py:14: DeprecationWarning:\n",
      "\n",
      "object of type <class 'float'> cannot be safely interpreted as an integer.\n",
      "\n",
      " * Running on http://127.0.0.1:8050/ (Press CTRL+C to quit)\n",
      "127.0.0.1 - - [26/Feb/2018 21:13:05] \"GET / HTTP/1.1\" 200 -\n",
      "127.0.0.1 - - [26/Feb/2018 21:13:06] \"GET /_dash-layout HTTP/1.1\" 200 -\n",
      "127.0.0.1 - - [26/Feb/2018 21:13:06] \"GET /_dash-dependencies HTTP/1.1\" 200 -\n",
      "127.0.0.1 - - [26/Feb/2018 21:13:16] \"POST /_dash-update-component HTTP/1.1\" 200 -\n",
      "127.0.0.1 - - [26/Feb/2018 21:13:16] \"GET /favicon.ico HTTP/1.1\" 200 -\n"
     ]
    }
   ],
   "source": [
    "import dash\n",
    "from dash.dependencies import Input, Output\n",
    "import dash_core_components as dcc\n",
    "import dash_html_components as html        # Importing needed Libararies\n",
    "import numpy as np\n",
    "from scipy import signal\n",
    "\n",
    "time_of_view        = 2.          #priod of Signal in s.\n",
    "analog_time         = np.linspace (0, time_of_view, 10e5) # Array of analog signl time in s.\n",
    "\n",
    "sampling_rate       = 80. #Hz\n",
    "sampling_period     = 1. / sampling_rate # s\n",
    "sample_number       = time_of_view / sampling_period\n",
    "sampling_time       = np.linspace (0, time_of_view, sample_number)\n",
    "\n",
    "carrier_frequency   = 9. #signal Frequancy\n",
    "amplitude           = 1 #signal amplitude\n",
    "phase               = 0 # phase shifting \n",
    "\n",
    "def analog_signal (time_point,signal_type):  # Function to generate waves \n",
    "    if(signal_type =='sine'):\n",
    "        return amplitude * np.sin (2 * np.pi * carrier_frequency * time_point + phase) #generating sine wave\n",
    "    elif(signal_type=='exp'):   \n",
    "        return amplitude*np.exp(time_point)       #generating exp signal\n",
    "    elif(signal_type=='square'):   \n",
    "        return signal.square(2 * np.pi * 5 * time_point)           #generate square wave\n",
    "    else:\n",
    "        return \"Please Enter right type\"\n",
    "    \n",
    "app = dash.Dash()     #creating server \n",
    "app.layout = html.Div([\n",
    "    html.H1('Signal Viewer'),   #title of server \n",
    "    dcc.Dropdown(\n",
    "        id='Signal',\n",
    "        options=[\n",
    "            {'label': 'Sin Wave', 'value': 'Signal_1'},\n",
    "            {'label': 'Exp', 'value': 'Signal_2'},            #creating options for user \n",
    "            {'label': 'Square', 'value': 'Signal_3'}\n",
    "        ],\n",
    "        value='Signal_1'   # initial value of server\n",
    "    ),\n",
    "    dcc.Graph(id='my-graph')\n",
    "])\n",
    "\n",
    "@app.callback(Output('my-graph', 'figure'), [Input('Signal', 'value')])\n",
    "def update_graph(selected_dropdown_value):   #function to update graphes\n",
    "    if (selected_dropdown_value == 'Signal_1'):\n",
    "        sampling_signal = analog_signal (sampling_time,'sine')  #generating needed wave\n",
    "        return {\n",
    "        'data': [{\n",
    "            'x': analog_time,'y': analog_signal (analog_time,'sine'),'type': 'trace', 'name': u'Analog' #plot anlog signal\n",
    "        },{'x':sampling_time,'y':sampling_signal,'type': 'bar', 'name': u'Sampled'}]  #plot sampled signal\n",
    "    }\n",
    "    \n",
    "    if (selected_dropdown_value == 'Signal_2'):\n",
    "        sampling_signal     = analog_signal (sampling_time,'exp')\n",
    "        return {\n",
    "        'data': [{\n",
    "            'x': analog_time,'y': analog_signal (analog_time,'exp'),'type': 'trace', 'name': u'Analog'\n",
    "        },{'x':sampling_time,'y':sampling_signal,'type': 'bar', 'name': u'Sampled'}]\n",
    "    }\n",
    "    if (selected_dropdown_value == 'Signal_3'):\n",
    "        sampling_signal     = analog_signal (sampling_time,'square')\n",
    "        return {\n",
    "        'data': [{\n",
    "            'x': analog_time,'y': analog_signal (analog_time,'square'),'type': 'trace', 'name': u'Analog'\n",
    "        },{'x':sampling_time,'y':sampling_signal,'type': 'bar', 'name': u'Sampled'}]\n",
    "    }\n",
    "        \n",
    "\n",
    "if __name__ == '__main__':\n",
    "    app.run_server()\n",
    "\n",
    "\n"
   ]
  },
  {
   "cell_type": "code",
   "execution_count": null,
   "metadata": {
    "collapsed": true
   },
   "outputs": [],
   "source": []
  }
 ],
 "metadata": {
  "kernelspec": {
   "display_name": "Python 3",
   "language": "python",
   "name": "python3"
  },
  "language_info": {
   "codemirror_mode": {
    "name": "ipython",
    "version": 3
   },
   "file_extension": ".py",
   "mimetype": "text/x-python",
   "name": "python",
   "nbconvert_exporter": "python",
   "pygments_lexer": "ipython3",
   "version": "3.6.3"
  }
 },
 "nbformat": 4,
 "nbformat_minor": 2
}
