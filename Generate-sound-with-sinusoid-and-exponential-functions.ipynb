{
 "cells": [
  {
   "cell_type": "code",
   "execution_count": 1,
   "metadata": {},
   "outputs": [
    {
     "name": "stderr",
     "output_type": "stream",
     "text": [
      "C:\\Users\\lenovo\\Anaconda3\\lib\\site-packages\\ipykernel_launcher.py:27: DeprecationWarning: object of type <class 'float'> cannot be safely interpreted as an integer.\n"
     ]
    }
   ],
   "source": [
    "import pyaudio\n",
    "import numpy as np\n",
    "\n",
    "p = pyaudio.PyAudio()\n",
    "\n",
    "volume1 = 1.0 # range [0.0, 1.0]\n",
    "volume2=1.0\n",
    "volume3=0.1 \n",
    "fs = 44100       # sampling rate, Hz, must be integer\n",
    "duration = 5.0   # in seconds, may be float\n",
    "f = 440.0        # sine frequency, Hz, may be float\n",
    "f1=200.0\n",
    "f2= 320.0\n",
    "f3= 500.0\n",
    "f4=130.0\n",
    "f5= 600.0\n",
    "f6= 90.0\n",
    "f7 = 10.0\n",
    "# generate samples, note conversion to float32 array\n",
    "samples = (np.sin(2*np.pi*np.arange(fs*duration)*f/fs)).astype(np.float32)\n",
    "samples1= (np.sin(2*np.pi*np.arange(fs*duration)*f1/fs)).astype(np.float32)\n",
    "samples2= (np.sin(2*np.pi*np.arange(fs*duration)*f2/fs)).astype(np.float32)\n",
    "samples3= (np.sin(2*np.pi*np.arange(fs*duration)*f3/fs)).astype(np.float32)\n",
    "samples4= (np.sin(2*np.pi*np.arange(fs*duration)*f4/fs)).astype(np.float32)\n",
    "samples5= (np.sin(2*np.pi*np.arange(fs*duration)*f5/fs)).astype(np.float32)\n",
    "samples6= (np.sin(2*np.pi*np.arange(fs*duration)*f6/fs)).astype(np.float32)\n",
    "samples7= (np.exp(-2* np.linspace(0,5,fs*duration)*f3*100/fs).astype(np.float32))\n",
    "\n",
    "# for paFloat32 sample values must be in range [-1.0, 1.0]\n",
    "stream = p.open(format=pyaudio.paFloat32,\n",
    "                channels=1,\n",
    "                rate=fs,\n",
    "                output=True)\n",
    "\n",
    "# play. May repeat with different volume values (if done interactively) \n",
    "stream.write(volume1*samples*samples1*samples2*samples6)\n",
    "stream.write(volume1*samples1*samples2*samples4)\n",
    "stream.write(volume1*samples1*samples2*samples3)\n",
    "stream.write(volume1*samples1*samples2*samples3*samples4)\n",
    "stream.write(volume1*samples2*samples3 *samples7)\n",
    "stream.write(volume1*samples2*samples3*samples6)\n",
    "stream.write(volume1*samples7*samples6)\n",
    "\n",
    "stream.stop_stream()\n",
    "stream.close()\n",
    "\n",
    "p.terminate()"
   ]
  },
  {
   "cell_type": "code",
   "execution_count": null,
   "metadata": {
    "collapsed": true
   },
   "outputs": [],
   "source": []
  }
 ],
 "metadata": {
  "kernelspec": {
   "display_name": "Python 3",
   "language": "python",
   "name": "python3"
  },
  "language_info": {
   "codemirror_mode": {
    "name": "ipython",
    "version": 3
   },
   "file_extension": ".py",
   "mimetype": "text/x-python",
   "name": "python",
   "nbconvert_exporter": "python",
   "pygments_lexer": "ipython3",
   "version": "3.6.3"
  }
 },
 "nbformat": 4,
 "nbformat_minor": 2
}
