{
 "cells": [
  {
   "cell_type": "code",
   "execution_count": null,
   "metadata": {},
   "outputs": [
    {
     "name": "stderr",
     "output_type": "stream",
     "text": [
      " * Running on http://127.0.0.1:8050/ (Press CTRL+C to quit)\n",
      "127.0.0.1 - - [28/Feb/2018 02:15:13] \"GET / HTTP/1.1\" 200 -\n",
      "127.0.0.1 - - [28/Feb/2018 02:15:16] \"GET /_dash-layout HTTP/1.1\" 200 -\n",
      "127.0.0.1 - - [28/Feb/2018 02:15:16] \"GET /_dash-dependencies HTTP/1.1\" 200 -\n",
      "127.0.0.1 - - [28/Feb/2018 02:15:17] \"GET /favicon.ico HTTP/1.1\" 200 -\n"
     ]
    }
   ],
   "source": [
    "import numpy as np\n",
    "import csv \n",
    "from scipy.signal import convolve2d\n",
    "import dash #1\n",
    "from dash.dependencies import Input, Output #2\n",
    "import dash_core_components as dcc #3\n",
    "import dash_html_components as html #4\n",
    "from pandas_datareader import data as web #5\n",
    "from datetime import datetime as dt\n",
    "from tkinter import *\n",
    "from tkinter import filedialog\n",
    " #libraries 1:5 may need to be installed\n",
    "\n",
    "root = Tk()  #intite GUI\n",
    "root.title(\"Signal Processing\")   #rename GUI\n",
    "root.geometry(\"900x600\")    #resize GUI\n",
    "\n",
    "Label(root, text=\"Filter Parameters\").pack()\n",
    "Label(root, text=\"Parameter 1\").pack()\n",
    "e1 = Entry(root)\n",
    "e1.pack()\n",
    "e1.delete(0, END)\n",
    "e1.insert(0, 0)\n",
    "Label(root, text=\"Parameter 2\").pack()\n",
    "e2 = Entry(root)\n",
    "e2.pack()\n",
    "e2.delete(0, END)\n",
    "e2.insert(0, 0)\n",
    "Label(root, text=\"Parameter3\").pack()\n",
    "e3= Entry(root)\n",
    "e3.pack()\n",
    "e3.delete(0, END)\n",
    "e3.insert(0, 0)\n",
    "\n",
    "def insert():\n",
    "    e1.update_idletasks()\n",
    "    e2.update_idletasks()\n",
    "    e3.update_idletasks()\n",
    "    \n",
    "insertbutton=Button(root,text=\"insert\", command=insert)\n",
    "insertbutton.pack()\n",
    "\n",
    "\n",
    "def browsesig():\n",
    "    \n",
    "    filename = filedialog.askopenfilename(filetypes=((\"csv Files\", \"*.csv\"),))  #ask  user to open file\n",
    "    f=open(filename, newline='')  #open the file\n",
    "    reader = csv.reader(f, delimiter=',', quotechar='|')  #read file as a list\n",
    "    results11=[]  #empty array to store data \n",
    "    for row in reader: \n",
    "        results11.append(row)\n",
    "    results1=np.array(results11)   #array of all data as string\n",
    "    results2 = results1[5:,:]   # slicing data to delete words which exist in file\n",
    "    results3= results2[:,1:].astype(np.float)  #convert data to float type\n",
    "    highpass = np.array([[float(e1.get()),float(e2.get()),float(e3.get())]])\n",
    "    filtered_highpass = convolve2d(results3,highpass,mode='same')\n",
    "    \n",
    "    \n",
    "    app = dash.Dash() #initiate your dash server\n",
    "\n",
    "    app.layout = html.Div([\n",
    "        html.H1('Playing with Dash'), #Header of dash server\n",
    "        dcc.Graph(id='example',figure={'data' : [{'x': results2[0:100,0], 'y': results3[0:100,0] , 'name': 'signal'}, #axes of plot\n",
    "            {'x': results2[0:100,0], 'y': filtered_highpass[0:100,0] , 'name': 'filtered'}                                     \n",
    "        ],\n",
    "        'layout':{'title':'Testing my dash'} })\n",
    "     ])\n",
    "\n",
    "    if __name__ == '__main__':\n",
    "        app.run_server() #running server\n",
    "browsebutton=Button(root,text=\"Browse\", command=browsesig) #inserting browse button in gui window\n",
    "browsebutton.pack(side=BOTTOM)\n",
    "\n",
    "\n",
    "root.mainloop()"
   ]
  },
  {
   "cell_type": "code",
   "execution_count": null,
   "metadata": {
    "collapsed": true
   },
   "outputs": [],
   "source": []
  }
 ],
 "metadata": {
  "kernelspec": {
   "display_name": "Python 3",
   "language": "python",
   "name": "python3"
  },
  "language_info": {
   "codemirror_mode": {
    "name": "ipython",
    "version": 3
   },
   "file_extension": ".py",
   "mimetype": "text/x-python",
   "name": "python",
   "nbconvert_exporter": "python",
   "pygments_lexer": "ipython3",
   "version": "3.6.3"
  }
 },
 "nbformat": 4,
 "nbformat_minor": 2
}
