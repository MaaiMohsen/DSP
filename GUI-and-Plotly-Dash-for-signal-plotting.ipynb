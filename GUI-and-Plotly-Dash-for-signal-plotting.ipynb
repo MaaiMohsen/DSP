{
 "cells": [
  {
   "cell_type": "code",
   "execution_count": null,
   "metadata": {},
   "outputs": [
    {
     "name": "stderr",
     "output_type": "stream",
     "text": [
      " * Running on http://127.0.0.1:8050/ (Press CTRL+C to quit)\n",
      "127.0.0.1 - - [26/Feb/2018 23:40:36] \"GET / HTTP/1.1\" 200 -\n",
      "127.0.0.1 - - [26/Feb/2018 23:40:41] \"GET /_dash-layout HTTP/1.1\" 200 -\n",
      "127.0.0.1 - - [26/Feb/2018 23:40:41] \"GET /_dash-dependencies HTTP/1.1\" 200 -\n",
      "127.0.0.1 - - [26/Feb/2018 23:40:42] \"GET /favicon.ico HTTP/1.1\" 200 -\n"
     ]
    }
   ],
   "source": [
    "import numpy as np\n",
    "import csv \n",
    "import dash #1\n",
    "from dash.dependencies import Input, Output #2\n",
    "import dash_core_components as dcc #3\n",
    "import dash_html_components as html #4\n",
    "from pandas_datareader import data as web #5\n",
    "from datetime import datetime as dt\n",
    "from tkinter import *\n",
    "from tkinter import filedialog\n",
    " #libraries 1:5 may need to be installed\n",
    "\n",
    "root = Tk()  #intite GUI\n",
    "root.title(\"Signal Processing\")   #rename GUI\n",
    "root.geometry(\"900x600\")    #resize GUI\n",
    "def browsesig():\n",
    "    \n",
    "    filename = filedialog.askopenfilename(filetypes=((\"csv Files\", \"*.csv\"),))  #ask  user to open file\n",
    "    f=open(filename, newline='')  #open the file\n",
    "    reader = csv.reader(f, delimiter=',', quotechar='|')  #read file as a list\n",
    "    results11=[]  #empty array to store data \n",
    "    for row in reader: \n",
    "        results11.append(row)\n",
    "    results1=np.array(results11)   #array of all data as string\n",
    "    results2 = results1[5:,:]   # slicing data to delete words which exist in file\n",
    "    results3= results2[:,1:].astype(np.float)  #convert data to float type\n",
    "    \n",
    "    app = dash.Dash() #initiate your dash server\n",
    "\n",
    "    app.layout = html.Div([\n",
    "        html.H1('Playing with Dash'), #Header of dash server\n",
    "        dcc.Graph(id='example',figure={'data' : [{'x': results2[0:100,0], 'y': results3[0:100,0]} #axes of plot\n",
    "        ],\n",
    "        'layout':{'title':'Testing my dash'} })\n",
    "     ])\n",
    "\n",
    "    if __name__ == '__main__':\n",
    "        app.run_server() #running server\n",
    "browsebutton=Button(root,text=\"Browse\", command=browsesig) #inserting browse button in gui window\n",
    "browsebutton.pack(side=BOTTOM)\n",
    "\n",
    "\n",
    "root.mainloop()"
   ]
  },
  {
   "cell_type": "code",
   "execution_count": null,
   "metadata": {
    "collapsed": true
   },
   "outputs": [],
   "source": []
  }
 ],
 "metadata": {
  "kernelspec": {
   "display_name": "Python 3",
   "language": "python",
   "name": "python3"
  },
  "language_info": {
   "codemirror_mode": {
    "name": "ipython",
    "version": 3
   },
   "file_extension": ".py",
   "mimetype": "text/x-python",
   "name": "python",
   "nbconvert_exporter": "python",
   "pygments_lexer": "ipython3",
   "version": "3.6.3"
  }
 },
 "nbformat": 4,
 "nbformat_minor": 2
}
